{
 "cells": [
  {
   "cell_type": "markdown",
   "metadata": {
    "hide_cell": true
   },
   "source": [
    "<span class='note'>*Make me look good.* Click on the cell below and press <kbd>Ctrl</kbd>-<kbd>Enter</kbd>.</span>"
   ]
  },
  {
   "cell_type": "code",
   "execution_count": null,
   "metadata": {
    "collapsed": false,
    "hide_cell": true
   },
   "outputs": [],
   "source": [
    "from IPython.core.display import HTML\n",
    "def css_styling():\n",
    "    styles = open('css/custom.css', 'r').read()\n",
    "    return HTML(styles)\n",
    "css_styling()"
   ]
  },
  {
   "cell_type": "markdown",
   "metadata": {
    "hide_cell": true
   },
   "source": [
    "<h5 class='prehead'>SA367 &middot; Mathematical Models for Decision Making &middot; Spring 2017 &middot; Uhan</h5>\n",
    "\n",
    "<h5 class='lesson'>Lesson 5.</h5>\n",
    "\n",
    "<h1 class='lesson_title'>Solving Shortest Path Problems with networkx</h1>"
   ]
  },
  {
   "cell_type": "markdown",
   "metadata": {},
   "source": [
    "## Overview"
   ]
  },
  {
   "cell_type": "markdown",
   "metadata": {},
   "source": [
    "* In this lesson, we'll learn how to use some Python packages to solve shortest path problems."
   ]
  },
  {
   "cell_type": "markdown",
   "metadata": {},
   "source": [
    "## An example"
   ]
  },
  {
   "cell_type": "markdown",
   "metadata": {},
   "source": [
    "<!--- Winston and Venkataramanan Chapter 8.2 -->\n",
    "You have just purchased a new car for \\$22,000.\n",
    "The cost of maintaining a car during a year depends on its age at the\n",
    "beginning of the year:\n",
    "\n",
    "| Age of car (years)           |     0 |     1 |     2 |     3 |      4 |\n",
    "|:-----------------------------|------:|------:|------:|------:|-------:|\n",
    "| Annual maintenance cost (\\$) | 2,000 | 3,000 | 4,000 | 8,000 | 12,000 |\n",
    "\n",
    "To avoid the high maintenance costs associated with an older car, you may\n",
    "trade in your car and purchase a new car.\n",
    "The price you receive on a trade-in depends on the age of the car at the time\n",
    "of the trade-in:\n",
    "\n",
    "| Age of car (years)  |      1 |      2 |     3 |     4 |     5 |\n",
    "|:--------------------|-------:|-------:|------:|------:|------:|\n",
    "| Trade-in price (\\$) | 15,000 | 12,000 | 9,000 | 5,000 | 2,000 |\n",
    "\n",
    "For now, assume that at any time, it costs \\$22,000 to purchase a new car.\n",
    "Your goal is to minimize the net cost (purchasing costs $+$ maintenance costs\n",
    "$-$ money received in trade-ins) incurred over the next five years.\n",
    "\n",
    "1. Formulate your problem as a shortest path problem.\n",
    "2. Solve your shortest path formulation: give the shortest path length and a shortest path.\n",
    "3. Interpret the shortest path length and shortest path in the context of the problem."
   ]
  },
  {
   "cell_type": "markdown",
   "metadata": {},
   "source": [
    "* Recall that we formulated this problem as a shortest path problem back in Lesson 1, like this:"
   ]
  },
  {
   "cell_type": "markdown",
   "metadata": {},
   "source": [
    "![Solution to car maintenance example](img/maintenance.png)"
   ]
  },
  {
   "cell_type": "markdown",
   "metadata": {},
   "source": [
    "* Let's solve this shortest path problem &mdash; that is,\n",
    "    - obtain the length of a shortest path\n",
    "    - obtain the nodes/edges in a shortest path\n",
    "    \n",
    "* First obstacle: <span class=\"rred\">how do we represent graphs in Python?</span>"
   ]
  },
  {
   "cell_type": "markdown",
   "metadata": {},
   "source": [
    "## Finding  Python packages"
   ]
  },
  {
   "cell_type": "markdown",
   "metadata": {},
   "source": [
    "* If you want to do something in Python, there's a very good chance that there's a package that will help you out.\n",
    "\n",
    "* The Python Package Index, or [PyPI](https://pypi.python.org/pypi), is the principal repository for Python software.\n",
    "\n",
    "* Let's try searching PyPI for \"graphs\".\n",
    "\n",
    "* We can also Google \"python graphs\" and see if any useful packages pop up.\n",
    "\n",
    "* Don't just choose the first package you find &mdash; read the package's documentation (_make sure it has good documentation_) and see if it is suitable for you.\n"
   ]
  },
  {
   "cell_type": "markdown",
   "metadata": {},
   "source": [
    "## Installing Python packages"
   ]
  },
  {
   "cell_type": "markdown",
   "metadata": {},
   "source": [
    "* In this class, we'll use [`networkx`](https://networkx.github.io) to represent graphs.\n",
    "    - It has good documentation, it's pretty easy to use, and has a lot of built-in functionality.\n",
    "\n",
    "* To install `networkx`, open a <span class=\"rred\">WinPython Command Prompt</span> and type:\n",
    "\n",
    "```\n",
    "pip install networkx\n",
    "```\n",
    "\n",
    "* `pip` might tell you that networkx is already installed. If not, it should go ahead and install it for you."
   ]
  },
  {
   "cell_type": "markdown",
   "metadata": {},
   "source": [
    "## Building a graph in networkx"
   ]
  },
  {
   "cell_type": "markdown",
   "metadata": {},
   "source": [
    "* To use `networkx`, we first need to __`import`__ it so that we can access its functions, like this:"
   ]
  },
  {
   "cell_type": "code",
   "execution_count": null,
   "metadata": {
    "collapsed": true
   },
   "outputs": [],
   "source": [
    "import networkx as nx"
   ]
  },
  {
   "cell_type": "markdown",
   "metadata": {},
   "source": [
    "* `as nx` in the cell above lets us refer to `networkx` as `nx`.\n",
    "    - This helps us save some keystrokes and keeps our code a bit cleaner."
   ]
  },
  {
   "cell_type": "markdown",
   "metadata": {},
   "source": [
    "* Let's build the directed graph for the example above in `networkx`.\n",
    "\n",
    "* We can start by creating an empty digraph called `G`, like this:"
   ]
  },
  {
   "cell_type": "code",
   "execution_count": null,
   "metadata": {
    "collapsed": false
   },
   "outputs": [],
   "source": [
    "# Create empty digraph\n",
    "G = nx.DiGraph()"
   ]
  },
  {
   "cell_type": "markdown",
   "metadata": {},
   "source": [
    "* Next, let's add nodes 1-6 to `G`. We can do this by using the __`.add_node()`__ method on `G`, like so:"
   ]
  },
  {
   "cell_type": "code",
   "execution_count": null,
   "metadata": {
    "collapsed": true
   },
   "outputs": [],
   "source": [
    "# Add nodes\n",
    "G.add_node(1)\n",
    "G.add_node(2)\n",
    "G.add_node(3)\n",
    "G.add_node(4)\n",
    "G.add_node(5)\n",
    "G.add_node(6)"
   ]
  },
  {
   "cell_type": "markdown",
   "metadata": {},
   "source": [
    "* _Food for thought._ What is a shorter way of expressing the code in the above cell?"
   ]
  },
  {
   "cell_type": "markdown",
   "metadata": {},
   "source": [
    "_Write your notes here. Double-click to edit._"
   ]
  },
  {
   "cell_type": "markdown",
   "metadata": {},
   "source": [
    "* Now we need to add the edges, as well as the length of each edge.\n",
    "\n",
    "* We can do this by using the __`.add_edge()`__ method on `G`.\n",
    "\n",
    "* For example, to add the edge $(1, 2)$ with length 9, we would write:"
   ]
  },
  {
   "cell_type": "code",
   "execution_count": null,
   "metadata": {
    "collapsed": true
   },
   "outputs": [],
   "source": [
    "# Add edge (1,2) with length 9\n",
    "G.add_edge(1, 2, length=9)"
   ]
  },
  {
   "cell_type": "markdown",
   "metadata": {},
   "source": [
    "* In the above statement, we are assigning edge $(1,2)$ an __attribute__ called `length` with value 9.\n",
    "\n",
    "* Note that `length` is a name of our choosing.\n",
    "\n",
    "* We could have used `weight` or `cost` or `monkey` instead of `length`. \n",
    "\n",
    "* As long as we are consistent across all the edges we define, then we can use the edge lengths easily later on."
   ]
  },
  {
   "cell_type": "markdown",
   "metadata": {},
   "source": [
    "* Let's add the rest of the edges and edge lengths:"
   ]
  },
  {
   "cell_type": "code",
   "execution_count": null,
   "metadata": {
    "collapsed": false
   },
   "outputs": [],
   "source": [
    "# Add the rest of the edges outgoing from node 1\n",
    "G.add_edge(1, 3, length=15)\n",
    "G.add_edge(1, 4, length=22)\n",
    "G.add_edge(1, 5, length=34)\n",
    "G.add_edge(1, 6, length=49)\n",
    "\n",
    "# Add edges outgoing from node 2\n",
    "G.add_edge(2, 3, length=9)\n",
    "G.add_edge(2, 4, length=15)\n",
    "G.add_edge(2, 5, length=22)\n",
    "G.add_edge(2, 6, length=34)\n",
    "\n",
    "# Add edges outgoing from node 3\n",
    "G.add_edge(3, 4, length=9)\n",
    "G.add_edge(3, 5, length=15)\n",
    "G.add_edge(3, 6, length=22)\n",
    "\n",
    "# Add edges outgoing from node 4\n",
    "G.add_edge(4, 5, length=9)\n",
    "G.add_edge(4, 6, length=15)\n",
    "\n",
    "# Add edges outgoing from node 5\n",
    "G.add_edge(5, 6, length=9)"
   ]
  },
  {
   "cell_type": "markdown",
   "metadata": {},
   "source": [
    "## Accessing edge information"
   ]
  },
  {
   "cell_type": "markdown",
   "metadata": {},
   "source": [
    "* Two nodes are __adjacent__ if they are endpoints of the same edge.\n",
    "\n",
    "* We can find the nodes adjacent to node 2 by outgoing edges like this:"
   ]
  },
  {
   "cell_type": "code",
   "execution_count": null,
   "metadata": {
    "collapsed": false
   },
   "outputs": [],
   "source": [
    "# Print nodes adjacent to node 2 by outgoing edges\n",
    "print(G[2])"
   ]
  },
  {
   "cell_type": "markdown",
   "metadata": {},
   "source": [
    "* We see that $(2,3)$ is an edge in $G$ with length 9, as desired.\n",
    "\n",
    "* Same goes for $(2, 4)$, $(2, 5)$, and $(2, 6)$."
   ]
  },
  {
   "cell_type": "markdown",
   "metadata": {},
   "source": [
    "* We can find the length of edge $(2, 5)$ directly like this:"
   ]
  },
  {
   "cell_type": "code",
   "execution_count": null,
   "metadata": {
    "collapsed": false
   },
   "outputs": [],
   "source": [
    "# Print the length of edge (2, 5)\n",
    "print(G[2][5][\"length\"])"
   ]
  },
  {
   "cell_type": "markdown",
   "metadata": {},
   "source": [
    "* Note that if we used a different attribute name above, we would need to use that instead of `\"length\"`.\n",
    "\n",
    "* For example,\n",
    "\n",
    "```python\n",
    "print(G[2][5][\"monkey\"])\n",
    "```"
   ]
  },
  {
   "cell_type": "markdown",
   "metadata": {},
   "source": [
    "* _Fine point._ `networkx` stores graph information as dictionaries nested within dictionaries."
   ]
  },
  {
   "cell_type": "markdown",
   "metadata": {},
   "source": [
    "## Solving shortest path problems"
   ]
  },
  {
   "cell_type": "markdown",
   "metadata": {},
   "source": [
    "* The __Bellman-Ford algorithm__ solves shortest path problems on directed graphs with negative edge lengths.\n",
    "    - The algorithm will output either (i) a shortest path from the source node to the target node, or (ii) declare that there is a negative directed cycle.\n",
    "\n",
    "* `networkx` has an implementation of the Bellman-Ford algorithm, but it doesn't automatically output the most useful information.\n",
    "\n",
    "* We will use a package called `bellmanford` that extends `networkx`'s implementation of the Bellman-Ford algorithm to output useful information easily.\n",
    "\n",
    "* To install `bellmanford`, open a WinPython Command Prompt and type:\n",
    "\n",
    "```\n",
    "pip install bellmanford\n",
    "```\n",
    "\n",
    "* To use `bellmanford`, we must first import it, just like with `networkx`:"
   ]
  },
  {
   "cell_type": "code",
   "execution_count": null,
   "metadata": {
    "collapsed": true
   },
   "outputs": [],
   "source": [
    "import bellmanford as bf"
   ]
  },
  {
   "cell_type": "markdown",
   "metadata": {},
   "source": [
    "* To find the shortest path from node 1 to node 6 in the graph `G` we created above, we can do this:"
   ]
  },
  {
   "cell_type": "code",
   "execution_count": null,
   "metadata": {
    "collapsed": true
   },
   "outputs": [],
   "source": [
    "path_length, path_nodes, negative_cycle = bf.bellman_ford(G, source=1, target=6, weight=\"length\")"
   ]
  },
  {
   "cell_type": "markdown",
   "metadata": {},
   "source": [
    "* The `weight` argument corresponds to the edge attribute we defined to have the edge lengths.\n",
    "\n",
    "* `bellman_ford` has three outputs: see what they look like below:"
   ]
  },
  {
   "cell_type": "code",
   "execution_count": null,
   "metadata": {
    "collapsed": false
   },
   "outputs": [],
   "source": [
    "print(\"Is there a negative cycle? {0}\".format(negative_cycle))\n",
    "print(\"Shortest path length: {0}\".format(path_length))\n",
    "print(\"Shortest path: {0}\".format(path_nodes))"
   ]
  },
  {
   "cell_type": "markdown",
   "metadata": {},
   "source": [
    "## Interpreting the output"
   ]
  },
  {
   "cell_type": "markdown",
   "metadata": {},
   "source": [
    "__Example.__ How does the output from the previous code cell translate to the original problem?"
   ]
  },
  {
   "cell_type": "markdown",
   "metadata": {},
   "source": [
    "_Write your notes here. Double-click to edit._"
   ]
  },
  {
   "cell_type": "markdown",
   "metadata": {},
   "source": [
    "## Another example &mdash; on your own"
   ]
  },
  {
   "cell_type": "markdown",
   "metadata": {},
   "source": [
    "* Here's another example from Lesson 1."
   ]
  },
  {
   "cell_type": "markdown",
   "metadata": {},
   "source": [
    "<!--- Rardin Exercise 9-32 -->\n",
    "The Simplexville College campus shuttle bus begins running at 7:00pm and continues until 2:00am. Several drivers will be used, but only one should be on duty at any time. If a shift starts at or before 9:00pm, a regular driver can be obtained for a 4-hour shift at a cost of \\$50. Otherwise, part-time drivers need to be used. Several part-time drivers can work 3-hours shifts at \\$40, and the rest are limited to 2-hour shifts at \\$30. The college's goal is to schedule drivers in a way that minimizes the total cost of staffing the shuttle bus. \n",
    "\n",
    "1. Formulate this problem as a shortest path problem. \n",
    "2. Solve your shortest path formulation: give the shortest path length and a shortest path.\n",
    "3. Interpret the shortest path length and shortest path in the context of the problem."
   ]
  },
  {
   "cell_type": "markdown",
   "metadata": {},
   "source": [
    "* We formulated this as a shortest path problem as follows:\n",
    "\n",
    "![Solution to shuttle bus example](img/shuttle.png)"
   ]
  },
  {
   "cell_type": "code",
   "execution_count": null,
   "metadata": {
    "collapsed": false
   },
   "outputs": [],
   "source": [
    "# Write your code here\n",
    "# Create empty graph\n",
    "G = nx.DiGraph()\n",
    "\n",
    "# Add nodes\n",
    "G.add_node(\"7pm\")\n",
    "G.add_node(\"8pm\")\n",
    "G.add_node(\"9pm\")\n",
    "G.add_node(\"10pm\")\n",
    "G.add_node(\"11pm\")\n",
    "G.add_node(\"12am\")\n",
    "G.add_node(\"1am\")\n",
    "G.add_node(\"2am\")\n",
    "\n",
    "# Add edges from 7pm\n",
    "G.add_edge(\"7pm\", \"9pm\", length=30)\n",
    "G.add_edge(\"7pm\", \"10pm\", length=40)\n",
    "G.add_edge(\"7pm\", \"11pm\", length=50)\n",
    "\n",
    "# Add edges from 8pm\n",
    "G.add_edge(\"8pm\", \"10pm\", length=30)\n",
    "G.add_edge(\"8pm\", \"11pm\", length=40)\n",
    "G.add_edge(\"8pm\", \"12am\", length=50)\n",
    "\n",
    "# Add edges from 9pm\n",
    "G.add_edge(\"9pm\", \"11pm\", length=30)\n",
    "G.add_edge(\"9pm\", \"12am\", length=40)\n",
    "G.add_edge(\"9pm\", \"1am\", length=50)\n",
    "\n",
    "# Add edges from 10pm\n",
    "G.add_edge(\"10pm\", \"12am\", length=30)\n",
    "G.add_edge(\"10pm\", \"1am\", length=40)\n",
    "G.add_edge(\"10pm\", \"2am\", length=50)\n",
    "\n",
    "# Add edges from 11pm\n",
    "G.add_edge(\"11pm\", \"1am\", length=30)\n",
    "G.add_edge(\"11pm\", \"2am\", length=40)\n",
    "\n",
    "# Add edges from 12pm\n",
    "G.add_edge(\"12am\", \"2am\", length=40)\n",
    "\n",
    "# Solve shortest path problem\n",
    "path_length, path_nodes, negative_cycle = bf.bellman_ford(G, source=\"7pm\", target=\"2am\", weight=\"length\")\n",
    "print(\"Is there a negative cycle? {0}\".format(negative_cycle))\n",
    "print(\"Shortest path length: {0}\".format(path_length))\n",
    "print(\"Shortest path: {0}\".format(path_nodes))"
   ]
  },
  {
   "cell_type": "markdown",
   "metadata": {},
   "source": [
    "_Write your notes here. Double-click to edit._"
   ]
  }
 ],
 "metadata": {
  "kernelspec": {
   "display_name": "Python 3",
   "language": "python",
   "name": "python3"
  },
  "language_info": {
   "codemirror_mode": {
    "name": "ipython",
    "version": 3
   },
   "file_extension": ".py",
   "mimetype": "text/x-python",
   "name": "python",
   "nbconvert_exporter": "python",
   "pygments_lexer": "ipython3",
   "version": "3.5.2"
  },
  "latex_metadata": {
   "lesson": "5",
   "lessontitle": "Solving shortest path problems with networkx",
   "shortlessontitle": "Solving shortest path problems with networkx"
  }
 },
 "nbformat": 4,
 "nbformat_minor": 0
}
